{
 "cells": [
  {
   "cell_type": "markdown",
   "id": "2a2b579e",
   "metadata": {},
   "source": [
    "# FINAL CRAWLER (crawling TOROB.COM)"
   ]
  },
  {
   "cell_type": "code",
   "execution_count": 2,
   "id": "413d5c9f",
   "metadata": {},
   "outputs": [
    {
     "name": "stdout",
     "output_type": "stream",
     "text": [
      "please enter number of items that you need in search result-> 10\n",
      "please wait to open torob.com...!\n",
      "Please enter your query to torob.com -> یخچال\n",
      "Sending query to torob's server\n",
      "24\n",
      "crawling items page...\n",
      "['https://torob.com//p/47579213-b86b-481d-b9c9-8088151f247c/%DB%8C%D8%AE%DA%86%D8%A7%D9%84-%D9%81%D8%B1%DB%8C%D8%B2%D8%B1-%D8%AF%D9%88%D9%88-%D9%85%D8%AF%D9%84-d4bf-1077/', 'https://torob.com//p/8dc20801-53f8-457c-8687-8f45b4b2437c/%DB%8C%D8%AE%DA%86%D8%A7%D9%84-%D9%81%D8%B1%DB%8C%D8%B2%D8%B1-%D9%81%D8%B1%DB%8C%D8%B2%D8%B1-%D8%A8%D8%A7%D9%84%D8%A7-%D8%B3%DB%8C%D9%86%D8%AC%D8%B1/', 'https://torob.com//p/a3b253e7-7c31-4f3d-919f-514f88b9855e/%DB%8C%D8%AE%DA%86%D8%A7%D9%84-%D9%81%D8%B1%DB%8C%D8%B2%D8%B1-%D8%A7%DB%8C%D8%B3%D8%AA%DA%A9%D9%88%D9%84-%D9%85%D8%AF%D9%84-tm-679-200/', 'https://torob.com//p/522e7344-bc6c-4c67-8f58-b6e3d19d8998/%DB%8C%D8%AE%DA%86%D8%A7%D9%84-%D9%81%D8%B1%DB%8C%D8%B2%D8%B1-%D9%87%DB%8C%D9%85%D8%A7%D9%84%DB%8C%D8%A7-%D9%85%D8%AF%D9%84-%DA%A9%D9%85%D8%A8%DB%8C-530-%D9%87%D9%88%D9%85-%D8%A8%D8%A7%D8%B1/', 'https://torob.com//p/5836700d-b2c2-41bb-bf49-7b201c3c7878/%DB%8C%D8%AE%DA%86%D8%A7%D9%84-%D9%81%D8%B1%DB%8C%D8%B2%D8%B1-%D8%AF%DB%8C%D9%BE%D9%88%DB%8C%D9%86%D8%AA-%D9%85%D8%AF%D9%84-decent/', 'https://torob.com//p/416e4248-b143-4b7d-b081-05de47033e05/%DB%8C%D8%AE%DA%86%D8%A7%D9%84-%D9%81%D8%B1%DB%8C%D8%B2%D8%B1-%D8%AF%D9%88%D9%82%D9%84%D9%88-%D8%A7%D8%B3%D8%AA%DB%8C%D9%84%D9%88%D9%86-%D9%85%D8%AF%D9%84-storm-plus-%D9%85%D8%B4%DA%A9%DB%8C/', 'https://torob.com//p/1ff1413e-d3e7-4445-8e6b-718c873412b8/%DB%8C%D8%AE%DA%86%D8%A7%D9%84-%D9%81%D8%B1%DB%8C%D8%B2%D8%B1-%D8%B3%D8%A7%DB%8C%D8%AF-%D8%A8%D8%A7%DB%8C-%D8%B3%D8%A7%DB%8C%D8%AF-%D8%A7%D9%84-%D8%AC%DB%8C-%D9%85%D8%AF%D9%84-x267/', 'https://torob.com//p/0961c41a-359b-4eb2-bb6b-deb7c34f5d8c/%DB%8C%D8%AE%DA%86%D8%A7%D9%84-%D9%81%D8%B1%DB%8C%D8%B2%D8%B1-%D8%A7%D9%85%D8%B1%D8%B3%D8%A7%D9%86-%D9%85%D8%AF%D9%84-tf16t/', 'https://torob.com//p/5a2ac5a7-8df0-4114-89ea-b0d851acafab/%DB%8C%D8%AE%DA%86%D8%A7%D9%84-%D8%B3%D8%A7%DB%8C%D8%AF-%D8%B3%D8%A7%D9%85%D8%B3%D9%88%D9%86%DA%AF-rf48-%D8%A7-26-%D9%81%D9%88%D8%AA-%D9%81%D8%B1%D9%86%DA%86/', 'https://torob.com//p/b52d8089-5874-45a7-bc29-76b2e66a552e/%DB%8C%D8%AE%DA%86%D8%A7%D9%84-%D9%81%D8%B1%DB%8C%D8%B2%D8%B1-%D8%AC%D9%86%D8%B1%D8%A7%D9%84-27-%D9%81%D9%88%D8%AA-%D8%B3%DB%8C%D9%84%D9%88%D8%B1/']\n",
      "['یخچال فریزر دوو مدل D4BF-1077 ا DAEWOO REFRIGERATOR FREEZER D4BF-1077', 'یخچال فریزر فریزر بالا سینجر ا Sinjer Combi R3', 'یخچال فریزر ایستکول مدل TM-679-200 ا Eastcool TM-679-200 ', 'یخچال فریزر هیمالیا مدل کمبی 530  هوم بار ا Himalia Combi-530 Refrigerator With Homebar', 'یخچال فریزر دیپوینت مدل Decent ا Beness DESENT Refrigerator', 'یخچال فریزر دوقلو استیلون مدل Storm Plus - مشکی ا Steelon Twin Refrigerator Freezer Model Storm Plus', 'یخچال فریزر ساید بای ساید ال جی مدل X267 ا LG GR-X267 Refrigerator', 'یخچال فریزر امرسان مدل TF16T ا Emersun TF16T329CLA ', 'یخچال ساید سامسونگ RF48 ا ۲۶ فوت فرنچ ا Samsung Side by Side Refrigerator 26 Feet RF48 French', 'یخچال فریزر جنرال 27 فوت سیلور']\n",
      "['\\xa0', 'از ۱۰٫۸۶۸٫۰۰۰ تومان', 'در ۲۰ فروشگاه', '    ', '\\xa0', 'از ۸٫۰۳۳٫۳۰۰ تومان', 'در ۸ فروشگاه', '    ', '\\xa0', 'از ۵٫۷۰۰٫۰۰۰ تومان']\n",
      "['در ۲۰ فروشگاه', 'در ۸ فروشگاه', 'در ۱۲ فروشگاه', 'در ۷ فروشگاه', 'در ۳۱ فروشگاه', 'در ۴ فروشگاه', 'در ۷ فروشگاه', 'در ۱۱ فروشگاه', 'در ۱۱ فروشگاه', 'در ۳ فروشگاه']\n",
      "crawling each items page...\n"
     ]
    },
    {
     "name": "stderr",
     "output_type": "stream",
     "text": [
      "100%|██████████████████████████████████████████████████████████████████████████████████| 10/10 [00:08<00:00,  1.25it/s]\n"
     ]
    },
    {
     "name": "stdout",
     "output_type": "stream",
     "text": [
      "downloading author images...\n"
     ]
    },
    {
     "name": "stderr",
     "output_type": "stream",
     "text": [
      "100%|██████████████████████████████████████████████████████████████████████████████████| 10/10 [00:06<00:00,  1.57it/s]"
     ]
    },
    {
     "name": "stdout",
     "output_type": "stream",
     "text": [
      "building DataFrame...\n",
      "finished!\n"
     ]
    },
    {
     "name": "stderr",
     "output_type": "stream",
     "text": [
      "\n"
     ]
    }
   ],
   "source": [
    "import requests\n",
    "from bs4 import BeautifulSoup\n",
    "import pandas as pd\n",
    "from tqdm import tqdm\n",
    "from selenium import webdriver\n",
    "from selenium.webdriver.common.by import By\n",
    "from selenium.webdriver.common.keys import Keys\n",
    "import time\n",
    "\n",
    "number = int(input(\"please enter number of items that you need in search result-> \"))\n",
    "\n",
    "print(\"please wait to open torob.com...!\")\n",
    "\n",
    "options = webdriver.ChromeOptions()\n",
    "options.add_argument('headless')\n",
    "\n",
    "driver = webdriver.Chrome(options=options)\n",
    "driver.get(\"https://torob.com\")\n",
    "\n",
    "#کوئری زدن به وبسایت ترب با استفاده از بسته سلنیوم\n",
    "query = input(\"Please enter your query to torob.com -> \")\n",
    "search_element=driver.find_element(By.CSS_SELECTOR,\"#search-query-input\")\n",
    "search_element.send_keys(query)\n",
    "search_element.send_keys(Keys.ENTER)\n",
    "\n",
    "print(\"Sending query to torob's server\")\n",
    "\n",
    "time.sleep(5)\n",
    "\n",
    "#گرفتن تعداد آیتم های موجود در صفحه نتایج\n",
    "n = len(driver.find_elements(By.CSS_SELECTOR,\"#layout-wrapp > div.jsx-3806219686.content.false > div > div > div.jsx-2899210753.left-container > div.jsx-2899210753.cards-wrapper > div > div > div.jsx-2834913897\"))\n",
    "print(n)\n",
    "\n",
    "#بررسی برای این که آیا به اسکرول نیاز داریم یا نه ؟\n",
    "if number > 24:\n",
    "    #scroll down\n",
    "    my_element = driver.find_element(By.TAG_NAME,\"body\")\n",
    "    \n",
    "    while True:\n",
    "        my_element.send_keys(Keys.PAGE_DOWN)\n",
    "        time.sleep(2)\n",
    "        n = len(driver.find_elements(By.CSS_SELECTOR,\"#layout-wrapp > div.jsx-3806219686.content.false > div > div > div.jsx-2899210753.left-container > div.jsx-2899210753.cards-wrapper > div > div > div.jsx-2834913897\"))\n",
    "        if(n>=number):\n",
    "            print(n)\n",
    "            break\n",
    "#######################################################################################اتمام اسکرول و آغاز استخراج نتایج\n",
    "\n",
    "soup = BeautifulSoup(driver.page_source, 'html.parser')\n",
    "\n",
    "\n",
    "print(\"crawling items page...\")\n",
    "\n",
    "#link\n",
    "temp = soup.select(\"#layout-wrapp > div.jsx-3806219686.content.false > div > div > div.jsx-2899210753.left-container > div.jsx-2899210753.cards-wrapper > div > div > div.jsx-2834913897 > a\")[:number]\n",
    "link = [\"https://torob.com/\"+i['href'] for i in temp]\n",
    "\n",
    "#title\n",
    "temp = soup.select(\"#layout-wrapp > div.jsx-3806219686.content.false > div > div > div.jsx-2899210753.left-container > div.jsx-2899210753.cards-wrapper > div > div > div.jsx-2834913897 > a > div > div > h2\")[:number]\n",
    "title = [i.text for i in temp]\n",
    "\n",
    "#price\n",
    "temp = soup.select(\"#layout-wrapp > div.jsx-3806219686.content.false > div > div > div.jsx-2899210753.left-container > div.jsx-2899210753.cards-wrapper > div > div > div.jsx-2834913897 > a > div > div > div.jsx-2834913897.table-cell > div.jsx-2834913897\")[:number]\n",
    "price = [i.text for i in temp]\n",
    "\n",
    "#Stores_count\n",
    "temp = soup.select(\"#layout-wrapp > div.jsx-3806219686.content.false > div > div > div.jsx-2899210753.left-container > div.jsx-2899210753.cards-wrapper > div > div > div.jsx-2834913897 > a > div.jsx-2834913897 > div.jsx-2834913897 > div.jsx-2834913897.table-cell > div.jsx-2834913897.shops\")[:number]\n",
    "\n",
    "Stores_count = [i.text for i in temp]\n",
    "\n",
    "print(link)\n",
    "print(title)\n",
    "print(price)\n",
    "print(Stores_count)\n",
    "###############################################################################################اتمام استخراج نتایج صفحه نتایج \n",
    "###############################################################################################باز کردن لینک هر نتیجه و استخراج اطلاعات آن\n",
    "\n",
    "print(\"crawling each items page...\")\n",
    "item_desc, item_image = [],[]\n",
    "\n",
    "for link1 in tqdm(link):\n",
    "    try:\n",
    "        site = requests.get(link1)\n",
    "    except:\n",
    "        time.sleep(2)\n",
    "        site = requests.get(link1)\n",
    "        \n",
    "    soup = BeautifulSoup(site.text, \"html.parser\")\n",
    "\n",
    "\n",
    "    #item_image\n",
    "    temp = soup.select(\"#layout-wrapp > div.jsx-3806219686.content.false > div > div.jsx-785696898.jsx-21171105.grid-container-with-seller > div.jsx-785696898.jsx-21171105.showcase > div > div > div.jsx-222558948.gallery > div > div > span > img\")\n",
    "    item_image.append(temp[0]['src'])\n",
    "        \n",
    "    #item_desc\n",
    "    temp = soup.select(\"#layout-wrapp > div.jsx-3806219686.content.false > div > div.jsx-785696898.jsx-21171105.grid-container-with-seller > div.jsx-785696898.jsx-21171105.showcase > div > div > div.jsx-222558948.main-info > div.jsx-222558948.name > h1\")\n",
    "    item_desc.append(temp[0].text)\n",
    "\n",
    "#######################################################################################اتمام استخراج اطلاعات هر نتیجه و آغاز بارگیری\n",
    "print(\"downloading author images...\")\n",
    "items = list(set(zip(item_desc, item_image)))\n",
    "i=1\n",
    "for item in tqdm(items):\n",
    "    try:\n",
    "        file = requests.get(item[1])\n",
    "    except:\n",
    "        time.sleep(5)\n",
    "        file = requests.get(item[1])\n",
    "    with open(\"C:\\\\Crawling\\\\Presentation2\\\\Files\\\\Images\\\\\"+str(i)+\".jpg\", 'wb') as f:\n",
    "        f.write(file.content)\n",
    "    i+=1\n",
    "#######################################################################################\n",
    "\n",
    "\n",
    "#######################################################################################ایجاد فرم مناسب برای ذخیره اطلاعات\n",
    "print(\"building DataFrame...\")\n",
    "data = pd.DataFrame({\n",
    "    'title':title,\n",
    "    'store_count':Stores_count,\n",
    "    'price':price,\n",
    "\n",
    "\n",
    "    'item_desc':item_desc,\n",
    "    'item_image':item_image,\n",
    "\n",
    "    \n",
    "    'link':link\n",
    "})\n",
    "data.to_csv(\"C:\\\\Crawling\\\\Presentation2\\\\Files\\\\Images\\\\data.csv\", index=None, encoding='utf-8')\n",
    "print(\"finished!\")"
   ]
  },
  {
   "cell_type": "code",
   "execution_count": null,
   "id": "bb4c368e",
   "metadata": {},
   "outputs": [],
   "source": []
  },
  {
   "cell_type": "code",
   "execution_count": null,
   "id": "162384f6",
   "metadata": {},
   "outputs": [],
   "source": []
  }
 ],
 "metadata": {
  "kernelspec": {
   "display_name": "Python 3 (ipykernel)",
   "language": "python",
   "name": "python3"
  },
  "language_info": {
   "codemirror_mode": {
    "name": "ipython",
    "version": 3
   },
   "file_extension": ".py",
   "mimetype": "text/x-python",
   "name": "python",
   "nbconvert_exporter": "python",
   "pygments_lexer": "ipython3",
   "version": "3.9.7"
  }
 },
 "nbformat": 4,
 "nbformat_minor": 5
}
